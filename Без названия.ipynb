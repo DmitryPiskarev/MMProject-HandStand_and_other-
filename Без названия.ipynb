{
 "cells": [
  {
   "cell_type": "code",
   "execution_count": 1,
   "id": "45517729",
   "metadata": {},
   "outputs": [
    {
     "ename": "NameError",
     "evalue": "name 'img' is not defined",
     "output_type": "error",
     "traceback": [
      "\u001b[0;31m---------------------------------------------------------------------------\u001b[0m",
      "\u001b[0;31mNameError\u001b[0m                                 Traceback (most recent call last)",
      "\u001b[0;32m/tmp/ipykernel_11357/837212868.py\u001b[0m in \u001b[0;36m<module>\u001b[0;34m\u001b[0m\n\u001b[1;32m     17\u001b[0m \u001b[0mft\u001b[0m \u001b[0;34m=\u001b[0m \u001b[0;36m2\u001b[0m\u001b[0;34m\u001b[0m\u001b[0;34m\u001b[0m\u001b[0m\n\u001b[1;32m     18\u001b[0m \u001b[0;34m\u001b[0m\u001b[0m\n\u001b[0;32m---> 19\u001b[0;31m \u001b[0mimg_new\u001b[0m \u001b[0;34m=\u001b[0m \u001b[0mresized_and_filtered\u001b[0m\u001b[0;34m(\u001b[0m\u001b[0;34m[\u001b[0m\u001b[0mmmpose_dir\u001b[0m\u001b[0;34m,\u001b[0m \u001b[0mimg_root\u001b[0m\u001b[0;34m,\u001b[0m \u001b[0mimg\u001b[0m\u001b[0;34m,\u001b[0m \u001b[0mf_root\u001b[0m\u001b[0;34m]\u001b[0m\u001b[0;34m,\u001b[0m \u001b[0mftypes\u001b[0m\u001b[0;34m[\u001b[0m\u001b[0mft\u001b[0m\u001b[0;34m]\u001b[0m\u001b[0;34m)\u001b[0m\u001b[0;34m\u001b[0m\u001b[0;34m\u001b[0m\u001b[0m\n\u001b[0m\u001b[1;32m     20\u001b[0m \u001b[0;34m\u001b[0m\u001b[0m\n\u001b[1;32m     21\u001b[0m \u001b[0;31m# data = [[91.063324, 272.36313, 0.8157366],\u001b[0m\u001b[0;34m\u001b[0m\u001b[0;34m\u001b[0m\u001b[0;34m\u001b[0m\u001b[0m\n",
      "\u001b[0;32m~/MMProject-HandStand_and_other-/filters.py\u001b[0m in \u001b[0;36mresized_and_filtered\u001b[0;34m(dirs, fltr_type)\u001b[0m\n\u001b[1;32m     49\u001b[0m         \u001b[0mfinal\u001b[0m \u001b[0;34m=\u001b[0m \u001b[0moutput\u001b[0m\u001b[0;34m\u001b[0m\u001b[0;34m\u001b[0m\u001b[0m\n\u001b[1;32m     50\u001b[0m \u001b[0;34m\u001b[0m\u001b[0m\n\u001b[0;32m---> 51\u001b[0;31m     \u001b[0mout_name\u001b[0m \u001b[0;34m=\u001b[0m \u001b[0;34m'{}_{}_{}.png'\u001b[0m\u001b[0;34m.\u001b[0m\u001b[0mformat\u001b[0m\u001b[0;34m(\u001b[0m\u001b[0mimg\u001b[0m\u001b[0;34m.\u001b[0m\u001b[0msplit\u001b[0m\u001b[0;34m(\u001b[0m\u001b[0;34m'.'\u001b[0m\u001b[0;34m)\u001b[0m\u001b[0;34m[\u001b[0m\u001b[0;36m0\u001b[0m\u001b[0;34m]\u001b[0m\u001b[0;34m,\u001b[0m \u001b[0mscale_pct\u001b[0m\u001b[0;34m,\u001b[0m \u001b[0mfltr_type\u001b[0m\u001b[0;34m)\u001b[0m\u001b[0;34m\u001b[0m\u001b[0;34m\u001b[0m\u001b[0m\n\u001b[0m\u001b[1;32m     52\u001b[0m     \u001b[0;32mif\u001b[0m \u001b[0;32mnot\u001b[0m \u001b[0mcv2\u001b[0m\u001b[0;34m.\u001b[0m\u001b[0mimwrite\u001b[0m\u001b[0;34m(\u001b[0m\u001b[0mos\u001b[0m\u001b[0;34m.\u001b[0m\u001b[0mpath\u001b[0m\u001b[0;34m.\u001b[0m\u001b[0mjoin\u001b[0m\u001b[0;34m(\u001b[0m\u001b[0mdirs\u001b[0m\u001b[0;34m[\u001b[0m\u001b[0;36m0\u001b[0m\u001b[0;34m]\u001b[0m\u001b[0;34m,\u001b[0m \u001b[0mdirs\u001b[0m\u001b[0;34m[\u001b[0m\u001b[0;36m3\u001b[0m\u001b[0;34m]\u001b[0m\u001b[0;34m,\u001b[0m\u001b[0;34m'{}'\u001b[0m\u001b[0;34m.\u001b[0m\u001b[0mformat\u001b[0m\u001b[0;34m(\u001b[0m\u001b[0mout_name\u001b[0m\u001b[0;34m)\u001b[0m\u001b[0;34m)\u001b[0m\u001b[0;34m,\u001b[0m \u001b[0mfinal\u001b[0m\u001b[0;34m)\u001b[0m\u001b[0;34m:\u001b[0m\u001b[0;34m\u001b[0m\u001b[0;34m\u001b[0m\u001b[0m\n\u001b[1;32m     53\u001b[0m         \u001b[0;32mraise\u001b[0m \u001b[0mException\u001b[0m\u001b[0;34m(\u001b[0m\u001b[0;34m\"Could not write image\"\u001b[0m\u001b[0;34m)\u001b[0m\u001b[0;34m\u001b[0m\u001b[0;34m\u001b[0m\u001b[0m\n",
      "\u001b[0;31mNameError\u001b[0m: name 'img' is not defined"
     ]
    }
   ],
   "source": [
    "import subprocess\n",
    "import re\n",
    "import os\n",
    "from keypoint_classes import AngleCheck\n",
    "from filters import *\n",
    "from PIL import Image\n",
    "import cv2\n",
    "\n",
    "mmpose_dir = '/home/dmitriy/mmcv/mmpose'\n",
    "img_root = 'own_videos/'\n",
    "img = 'tst_img1.png'\n",
    "img_out = 'vis_results/'\n",
    "f_root = 'own_videos/media/'\n",
    "\n",
    "# filter to test\n",
    "ftypes = {99:'NO', 0:'CLAHE', 1:'GRAY', 2:'MEDIANBLUR', 3:'GRAY_HSV'}\n",
    "ft = 2\n",
    "\n",
    "img_new = resized_and_filtered([mmpose_dir, img_root, img, f_root], ftypes[ft])\n",
    "\n",
    "# data = [[91.063324, 272.36313, 0.8157366],\n",
    "#         [84.76651, 272.36313, 0.8523694],\n",
    "#         [91.063324, 278.65994, 0.79907167],\n",
    "#         [84.76651, 266.0663, 0.8775567],\n",
    "#         [97.36014, 272.36313, 0.6498351],\n",
    "#         [94.21173, 247.17587, 0.6690098],\n",
    "#         [106.805374, 262.9179, 0.7052514],\n",
    "#         [97.36014, 291.2536, 0.56708306],\n",
    "#         [97.36014, 291.2536, 0.86998916],\n",
    "#         [97.36014, 332.18292, 0.68419474],\n",
    "#         [94.21173, 332.18292, 0.82392687],\n",
    "#         [97.36014, 168.4657, 0.6219564],\n",
    "#         [103.65695, 168.4657, 0.67523414],\n",
    "#         [103.65695, 105.49753, 0.7835887],\n",
    "#         [103.65695, 105.49753, 0.68537617],\n",
    "#         [103.65695, 48.82617, 0.6098028],\n",
    "#         [106.805374, 51.97458, 0.5526638]]\n",
    "\n",
    "thresholds = {'strict': [0.150, 0.032, 0.018, 0.027, 0.026, 0.015],  # Median\n",
    "              'conservative': [0.2, 0.06, 0.034, 0.048, 0.064, 0.031],  # Median + Standard deviation\n",
    "              'week': [0.323, 0.088, 0.049, 0.069, 0.101, 0.047]}  # Median + 2xStandard deviation\n",
    "\n",
    "# Previous thresholds' values\n",
    "# ac_thr_wes = 0.150 ac_thr_wsh = 0.037 ac_thr_wsk = 0.019 ac_thr_shk = 0.026\n",
    "# ac_thr_hka = 0.027 ac_thr_wha = 0.018\n",
    "\n",
    "ac_thr_wes, ac_thr_wsh, ac_thr_wsk, ac_thr_shk, ac_thr_hka, ac_thr_wha = thresholds['conservative']\n",
    "\n",
    "# retrieve data from mmpose\n",
    "mmpose_out_dataset_str = subprocess.check_output([\"./subscript\", mmpose_dir, f_root, img_new, img_out])\n",
    "\n",
    "string_mm = mmpose_out_dataset_str.decode()\n",
    "arr_of_strings = string_mm.replace(\"\\n\", \"\").replace(\" \", \"\").split(\"}\")\n",
    "re_rule_f = '\\'keypoints\\':array\\(.*?\\)'\n",
    "re_rule_s = '\\[(.+?)\\]'\n",
    "arr_of_keypoint_str = []\n",
    "data_data = []\n",
    "for x in arr_of_strings:\n",
    "    arr_of_keypoint_str.append(re.findall(re_rule_f, x))\n",
    "if arr_of_keypoint_str:\n",
    "    for y in arr_of_keypoint_str:\n",
    "        if y:\n",
    "            substring_arr = re.findall(re_rule_s, y[0])\n",
    "            substring_arr[0] = substring_arr[0].replace('[', '')\n",
    "            s_ar = [list(map(float, (x.split(',')))) for x in substring_arr]\n",
    "            data_data.append(s_ar)\n",
    "\n",
    "    AngleCheck(data_data[0], False).calculate([ac_thr_wes, ac_thr_wsh, ac_thr_wsk,\n",
    "                                               ac_thr_shk, ac_thr_hka, ac_thr_wha])\n",
    "    \n",
    "    img_in = Image.open(f'{mmpose_dir}/{img_root}/{img}')\n",
    "    img_in_f = Image.open(f'{mmpose_dir}/{f_root}/{img_new}')\n",
    "    img_out = Image.open(f'{mmpose_dir}/{img_out}/vis_{img_new}')\n",
    "    img_in.show()\n",
    "    img_in_f.show()\n",
    "    img_out.show()\n",
    "else:\n",
    "    print(string_mm)"
   ]
  },
  {
   "cell_type": "code",
   "execution_count": 3,
   "id": "a45eae57",
   "metadata": {},
   "outputs": [
    {
     "data": {
      "text/plain": [
       "'img'"
      ]
     },
     "execution_count": 3,
     "metadata": {},
     "output_type": "execute_result"
    }
   ],
   "source": [
    "'img.pmg'"
   ]
  }
 ],
 "metadata": {
  "kernelspec": {
   "display_name": "Python 3 (ipykernel)",
   "language": "python",
   "name": "python3"
  },
  "language_info": {
   "codemirror_mode": {
    "name": "ipython",
    "version": 3
   },
   "file_extension": ".py",
   "mimetype": "text/x-python",
   "name": "python",
   "nbconvert_exporter": "python",
   "pygments_lexer": "ipython3",
   "version": "3.7.10"
  }
 },
 "nbformat": 4,
 "nbformat_minor": 5
}
