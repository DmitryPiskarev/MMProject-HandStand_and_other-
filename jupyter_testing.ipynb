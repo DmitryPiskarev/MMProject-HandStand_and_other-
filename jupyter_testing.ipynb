{
 "cells": [
  {
   "cell_type": "code",
   "execution_count": 182,
   "id": "7afe33bc",
   "metadata": {},
   "outputs": [
    {
     "name": "stdout",
     "output_type": "stream",
     "text": [
      "The autoreload extension is already loaded. To reload it, use:\n",
      "  %reload_ext autoreload\n"
     ]
    },
    {
     "name": "stderr",
     "output_type": "stream",
     "text": [
      "/home/dmitriy/mmcv/mmdetection/mmdet/core/anchor/builder.py:16: UserWarning: ``build_anchor_generator`` would be deprecated soon, please use ``build_prior_generator`` \n",
      "  '``build_anchor_generator`` would be deprecated soon, please use '\n",
      "/home/dmitriy/mmcv/mmdetection/mmdet/core/anchor/anchor_generator.py:323: UserWarning: ``grid_anchors`` would be deprecated soon. Please use ``grid_priors`` \n",
      "  warnings.warn('``grid_anchors`` would be deprecated soon. '\n",
      "/home/dmitriy/mmcv/mmdetection/mmdet/core/anchor/anchor_generator.py:360: UserWarning: ``single_level_grid_anchors`` would be deprecated soon. Please use ``single_level_grid_priors`` \n",
      "  '``single_level_grid_anchors`` would be deprecated soon. '\n"
     ]
    },
    {
     "name": "stdout",
     "output_type": "stream",
     "text": [
      "WES angle (True, 20.08)\n",
      "WSH angle (True, 8.39)\n",
      "WSK angle (True, 4.57)\n",
      "SHK angle (True, 8.83)\n",
      "HKA angle (True, 2.49)\n",
      "WHA angle (True, 3.38)\n",
      "++++++{'WES angle': [159.91782334703132, (True, 20.08)], 'WSH angle': [171.61429548941717, (True, 8.39)], 'WSK angle': [175.42624046213177, (True, 4.57)], 'SHK angle': [171.16969165182064, (True, 8.83)], 'HKA angle': [177.5061611486283, (True, 2.49)], 'WHA angle': [176.6150703150299, (True, 3.38)]}\n",
      "--- 24.74s seconds ---\n"
     ]
    }
   ],
   "source": [
    "%load_ext autoreload\n",
    "%autoreload 2\n",
    "\n",
    "import subprocess\n",
    "import re\n",
    "import os\n",
    "import time\n",
    "from keypoint_classes import AngleCheck\n",
    "from filters import *\n",
    "from PIL import Image\n",
    "import cv2\n",
    "\n",
    "# BASE_DIR = os.path.dirname(os.path.realpath(__file__))\n",
    "BASE_DIR = os.getcwd() # Может так?\n",
    "img_root = os.path.join(BASE_DIR, 'media/good_img')\n",
    "# img_root = os.path.join(BASE_DIR, 'media/img_from_video/user1')\n",
    "\n",
    "# Dima dont touch! ONLY COMMENT!!!!!  :))\n",
    "# mmpose_dir = '/home/kirill/PycharmProjects/MMproject/mmpose'\n",
    "# my_dir = '/home/kirill/PycharmProjects/HandstandProject/'\n",
    "\n",
    "mmpose_dir = '/home/dmitriy/mmcv/mmpose'\n",
    "my_dir = '/home/dmitriy/MMProject-HandStand_and_other-'\n",
    "\n",
    "# f_root = os.path.join(BASE_DIR, 'media/filtered')\n",
    "# img_out = os.path.join(BASE_DIR, 'media/out_img')\n",
    "\n",
    "f_root = os.path.join(my_dir, 'media/filtered')\n",
    "img_out = os.path.join(my_dir, 'media/out_img')\n",
    "\n",
    "img = 'tst_img18.png'\n",
    "array_of_results = []\n",
    "\n",
    "start_time = time.time()\n",
    "\n",
    "def get_img_result(mmpose_root, img_name, img_root_dir, f_root_dir, img_out_dir, plot_all=True, plot_res=True):\n",
    "    assert (plot_all+plot_res) <= 1, 'plot_all and plot_res cannot be set to True simultaneously'\n",
    "    \n",
    "    rez = {}\n",
    "    # filter list\n",
    "    fltrs = {0:'GRAY', 1:'WB', 2:'BC', 3:'HSV', 4:'SHARPEN', 5:'MEDIANBLUR', \n",
    "             6:'AVERAGE', 7:'GAUSSIAN_BLUR', 8:'TRUNC', 9:'CLAHE', 10:'BILATERAL',\n",
    "             11:'THRESH_TOZERO', 12:'VLINE', 13:'EMBOSS', 14:'BGR2RGB', 15: 'HSV2BGR',\n",
    "             16: 'SATURATION', 17: 'UNSHARP_MASK', 18: 'GRAY2RGB'}\n",
    "    \n",
    "    \"\"\"\n",
    "    NOTE: WB is not applicable for GRAY/BGR2RGB scale image! Please, keep appropriate order of filters.\n",
    "          Basically, white balance should be the first filter to apply in the correction pipeline.\n",
    "          \n",
    "          Do not apply BC and SATURATION togther because they use the same alpha and beta parameters which can\n",
    "          result in inappropriate output image.\n",
    "    \"\"\"\n",
    "    \n",
    "    apply_following = [fltrs[1], fltrs[16], fltrs[14]] # Works good for bad-quality and monotonic images such as 18\n",
    "    apply_following = [fltrs[1], fltrs[16], fltrs[14], fltrs[17]] # Works perfectly for nearly all images \n",
    "    apply_following = [fltrs[1], fltrs[16], fltrs[14], fltrs[17], fltrs[0]] # Works perfectly 1, 2, 4, 5, 6\n",
    "    apply_following = [fltrs[1], fltrs[16]]\n",
    "#     apply_following = [fltrs[1], fltrs[16], fltrs[0]]\n",
    "#     apply_following = []\n",
    "\n",
    "    resize = False  # Set False to prevent resizing\n",
    "    smooth = 3  # an additional numerical parameter like the smooth factor in the MEDIANBLUR\n",
    "    alpha = 1.1  # saturation control (1-remains unchanged)\n",
    "    beta = 0.99  # brightness control (1-remains unchanged)\n",
    "    sharp_profile = 0 # 0 or 3\n",
    "\n",
    "    img_new = resized_and_filtered([mmpose_root, img_root_dir, img_name, f_root_dir], apply_following,\n",
    "                                   resize, alpha, beta, sharp_profile, smooth)\n",
    "\n",
    "    thresholds = {'strict': [0.150, 0.032, 0.018, 0.027, 0.026, 0.015],  # Median\n",
    "                  'conservative': [0.2, 0.06, 0.034, 0.048, 0.064, 0.031],  # Median + Standard deviation\n",
    "                  'week': [0.323, 0.088, 0.049, 0.069, 0.101, 0.047]}  # Median + 2xStandard deviation\n",
    "\n",
    "    # Previous thresholds' values\n",
    "    # ac_thr_wes = 0.150 ac_thr_wsh = 0.037 ac_thr_wsk = 0.019 ac_thr_shk = 0.026\n",
    "    # ac_thr_hka = 0.027 ac_thr_wha = 0.018\n",
    "\n",
    "    ac_thr_wes, ac_thr_wsh, ac_thr_wsk, ac_thr_shk, ac_thr_hka, ac_thr_wha = thresholds['week']\n",
    "\n",
    "    # retrieve data from mmpose\n",
    "    mmpose_out_dataset_str = subprocess.check_output([\"./subscript\", mmpose_dir, f_root_dir, \n",
    "                                                      img_new, img_out_dir])\n",
    "\n",
    "    string_mm = mmpose_out_dataset_str.decode()\n",
    "    arr_of_strings = string_mm.replace(\"\\n\", \"\").replace(\" \", \"\").split(\"}\")\n",
    "    re_rule_f = '\\'keypoints\\':array\\(.*?\\)'\n",
    "    re_rule_s = '\\[(.+?)\\]'\n",
    "    arr_of_keypoint_str = []\n",
    "    data_data = []\n",
    "    for x in arr_of_strings:\n",
    "        arr_of_keypoint_str.append(re.findall(re_rule_f, x))\n",
    "    if arr_of_keypoint_str:\n",
    "        for y in arr_of_keypoint_str:\n",
    "            if y:\n",
    "                substring_arr = re.findall(re_rule_s, y[0])\n",
    "                substring_arr[0] = substring_arr[0].replace('[', '')\n",
    "                s_ar = [list(map(float, (x.split(',')))) for x in substring_arr]\n",
    "                data_data.append(s_ar)\n",
    "        for data in data_data:\n",
    "            result = AngleCheck(data, False)\n",
    "            result.calculate([ac_thr_wes, ac_thr_wsh, ac_thr_wsk,\n",
    "                              ac_thr_shk, ac_thr_hka, ac_thr_wha])\n",
    "            if result.flag:\n",
    "                rez = result.dict_of_angles\n",
    "                break\n",
    "        if plot_all:\n",
    "            img_in = Image.open(f'{img_root_dir}/{img_name}')\n",
    "#             img_in_f = Image.open(f'{f_root_dir}/{img_new}')\n",
    "            img_out = Image.open(f'{img_out_dir}/vis_{img_new}')\n",
    "            img_in.show()\n",
    "#             img_in_f.show()\n",
    "            img_out.show()\n",
    "        elif plot_res:\n",
    "            img_out = Image.open(f'{img_out_dir}/vis_{img_new}')\n",
    "            img_out.show()\\\n",
    "            \n",
    "        return rez\n",
    "        \n",
    "    else:\n",
    "        print(string_mm)\n",
    "        return rez\n",
    "\n",
    "d = get_img_result(mmpose_root=mmpose_dir, \n",
    "                   img_name=img, \n",
    "                   img_root_dir=img_root, \n",
    "                   f_root_dir=f_root, \n",
    "                   img_out_dir=img_out,\n",
    "                   plot_all=True,\n",
    "                   plot_res=False)\n",
    "\n",
    "print(f\"++++++{d}\")\n",
    "\n",
    "## For all img of user\n",
    "\n",
    "# path, dirs, files = next(os.walk(img_root))\n",
    "# file_count = len(files)\n",
    "# for i in range(file_count):\n",
    "#     imgname = f\"img_{i}.png\"\n",
    "#     array_of_results.append(\n",
    "#         get_img_rezult(img_name=imgname, img_root_dir=img_root, f_root_dir=f_root, img_out_dir=img_out))\n",
    "#\n",
    "# print(array_of_results)\n",
    "print(\"--- {}s seconds ---\".format(round(time.time() - start_time, 2)))"
   ]
  },
  {
   "cell_type": "code",
   "execution_count": null,
   "id": "b841e55c",
   "metadata": {},
   "outputs": [],
   "source": [
    "\n",
    "\n",
    "WES angle (True, 21.12)\n",
    "WSH angle (True, 9.25)\n",
    "WSK angle (True, 2.25)\n",
    "SHK angle (True, 7.13)\n",
    "HKA angle (True, 3.18)\n",
    "WHA angle (True, 3.75)"
   ]
  },
  {
   "cell_type": "code",
   "execution_count": 12,
   "id": "007d7e87",
   "metadata": {},
   "outputs": [],
   "source": []
  },
  {
   "cell_type": "code",
   "execution_count": 13,
   "id": "ba199198",
   "metadata": {},
   "outputs": [],
   "source": [
    "cv2.imshow('image', output)\n",
    "cv2.waitKey(0)\n",
    "\n",
    "cv2.destroyAllWindows()"
   ]
  },
  {
   "cell_type": "code",
   "execution_count": 83,
   "id": "192fb115",
   "metadata": {},
   "outputs": [],
   "source": [
    "image = cv2.imread('/home/dmitriy/MMProject-HandStand_and_other-/media/good_img/tst_img6.png', cv2.IMREAD_UNCHANGED)\n",
    "hsvImg = cv2.cvtColor(image,cv2.COLOR_BGR2HSV)\n",
    "hsvImg[...,1] = hsvImg[...,1]*1\n",
    "hsvImg[...,2] = hsvImg[...,2]*1\n",
    "\n",
    "hsvImg=cv2.cvtColor(hsvImg,cv2.COLOR_HSV2BGR)\n",
    "\n",
    "cv2.imshow('hsvImg', hsvImg)\n",
    "cv2.waitKey(0)\n",
    "\n",
    "cv2.destroyAllWindows()"
   ]
  },
  {
   "cell_type": "code",
   "execution_count": 151,
   "id": "2786ac28",
   "metadata": {},
   "outputs": [
    {
     "name": "stderr",
     "output_type": "stream",
     "text": [
      "/home/dmitriy/anaconda3/envs/open-mmlab/lib/python3.7/site-packages/ipykernel_launcher.py:2: DeprecationWarning: `np.float` is a deprecated alias for the builtin `float`. To silence this warning, use `float` by itself. Doing this will not modify any behavior and is safe. If you specifically wanted the numpy scalar type, use `np.float64` here.\n",
      "Deprecated in NumPy 1.20; for more details and guidance: https://numpy.org/devdocs/release/1.20.0-notes.html#deprecations\n",
      "  \n",
      "/home/dmitriy/anaconda3/envs/open-mmlab/lib/python3.7/site-packages/ipykernel_launcher.py:8: DeprecationWarning: `np.float` is a deprecated alias for the builtin `float`. To silence this warning, use `float` by itself. Doing this will not modify any behavior and is safe. If you specifically wanted the numpy scalar type, use `np.float64` here.\n",
      "Deprecated in NumPy 1.20; for more details and guidance: https://numpy.org/devdocs/release/1.20.0-notes.html#deprecations\n",
      "  \n"
     ]
    }
   ],
   "source": [
    "i = cv2.imread('/home/dmitriy/MMProject-HandStand_and_other-/media/good_img/tst_img6.png')\n",
    "img = np.array(i, dtype=np.float)\n",
    "img /= 255.0\n",
    "cv2.imshow('img',img)\n",
    "cv2.waitKey(0)\n",
    "\n",
    "#pre-multiplication\n",
    "a_channel = np.ones(img.shape, dtype=np.float)/2.0\n",
    "image = img*a_channel\n",
    "\n",
    "cv2.imshow('img',image)\n",
    "cv2.waitKey(0)\n",
    "cv2.destroyAllWindows()"
   ]
  },
  {
   "cell_type": "code",
   "execution_count": 152,
   "id": "f75fdf10",
   "metadata": {},
   "outputs": [
    {
     "data": {
      "text/plain": [
       "32"
      ]
     },
     "execution_count": 152,
     "metadata": {},
     "output_type": "execute_result"
    }
   ],
   "source": [
    "img = cv2.imread(\"/home/dmitriy/MMProject-HandStand_and_other-/media/good_img/tst_img6.png\", cv2.IMREAD_UNCHANGED)\n",
    "img[np.where(np.all(img[..., :3] == 255, -1))] = 0\n",
    "cv2.imshow('img',img)\n",
    "cv2.waitKey(0)\n",
    "cv2.destroyAllWindows()"
   ]
  },
  {
   "cell_type": "code",
   "execution_count": 153,
   "id": "af98d199",
   "metadata": {},
   "outputs": [],
   "source": []
  }
 ],
 "metadata": {
  "kernelspec": {
   "display_name": "Python 3 (ipykernel)",
   "language": "python",
   "name": "python3"
  },
  "language_info": {
   "codemirror_mode": {
    "name": "ipython",
    "version": 3
   },
   "file_extension": ".py",
   "mimetype": "text/x-python",
   "name": "python",
   "nbconvert_exporter": "python",
   "pygments_lexer": "ipython3",
   "version": "3.7.10"
  }
 },
 "nbformat": 4,
 "nbformat_minor": 5
}
